{
 "cells": [
  {
   "cell_type": "code",
   "execution_count": 8,
   "id": "3bf41a7f",
   "metadata": {},
   "outputs": [
    {
     "ename": "IndentationError",
     "evalue": "unexpected indent (180555702.py, line 8)",
     "output_type": "error",
     "traceback": [
      "\u001b[1;36m  Cell \u001b[1;32mIn[8], line 8\u001b[1;36m\u001b[0m\n\u001b[1;33m    return contenido\u001b[0m\n\u001b[1;37m    ^\u001b[0m\n\u001b[1;31mIndentationError\u001b[0m\u001b[1;31m:\u001b[0m unexpected indent\n"
     ]
    }
   ],
   "source": [
    "from docx import Document\n",
    "\n",
    "def leer_word(nombre_archivo):\n",
    "  doc = Document(nombre_archivo)\n",
    "  contenido = ''\n",
    "  for parrafo in doc.paragraphs:\n",
    "    contenido += parrafo.text + '\\n'\n",
    "      return contenido\n",
    "\n",
    "# Uso\n",
    "print('----WORD-------')\n",
    "contenido_word = leer_word('doc2.docx')\n",
    "print(contenido_word)\n",
    "print('----WORD-------')"
   ]
  },
  {
   "cell_type": "code",
   "execution_count": null,
   "id": "939520cd",
   "metadata": {},
   "outputs": [],
   "source": []
  },
  {
   "cell_type": "code",
   "execution_count": null,
   "id": "f4c6354f",
   "metadata": {},
   "outputs": [],
   "source": []
  },
  {
   "cell_type": "code",
   "execution_count": null,
   "id": "790e3f9f",
   "metadata": {},
   "outputs": [],
   "source": []
  }
 ],
 "metadata": {
  "kernelspec": {
   "display_name": "Python 3 (ipykernel)",
   "language": "python",
   "name": "python3"
  },
  "language_info": {
   "codemirror_mode": {
    "name": "ipython",
    "version": 3
   },
   "file_extension": ".py",
   "mimetype": "text/x-python",
   "name": "python",
   "nbconvert_exporter": "python",
   "pygments_lexer": "ipython3",
   "version": "3.11.5"
  }
 },
 "nbformat": 4,
 "nbformat_minor": 5
}
