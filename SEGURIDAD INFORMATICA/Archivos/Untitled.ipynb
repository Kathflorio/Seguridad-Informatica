{
 "cells": [
  {
   "cell_type": "code",
   "execution_count": 13,
   "id": "9c0536b6",
   "metadata": {},
   "outputs": [
    {
     "ename": "SyntaxError",
     "evalue": "(unicode error) 'unicodeescape' codec can't decode bytes in position 2-3: truncated \\UXXXXXXXX escape (640704103.py, line 4)",
     "output_type": "error",
     "traceback": [
      "\u001b[1;36m  Cell \u001b[1;32mIn[13], line 4\u001b[1;36m\u001b[0m\n\u001b[1;33m    pdf_path = 'C:\\Users\\katherine.florio\\Music\\UX AHORRO INTELIGENTE.pdf'\u001b[0m\n\u001b[1;37m                                                                          ^\u001b[0m\n\u001b[1;31mSyntaxError\u001b[0m\u001b[1;31m:\u001b[0m (unicode error) 'unicodeescape' codec can't decode bytes in position 2-3: truncated \\UXXXXXXXX escape\n"
     ]
    }
   ],
   "source": [
    "import PyPDF2\n",
    "\n",
    "# Ruta de tu archivo PDF\n",
    "pdf_path = 'C:\\Users\\katherine.florio\\Music\\UX AHORRO INTELIGENTE.pdf'\n",
    "\n",
    "# Abre el archivo PDF en modo de lectura binaria\n",
    "with open(pdf_path, 'rb') as pdf_file:\n",
    "    # Crea un objeto PdfFileReader\n",
    "    pdf_reader = PyPDF2.PdfFileReader(pdf_file)\n",
    "    \n",
    "    # Obtiene el número de páginas en el PDF\n",
    "    num_pages = pdf_reader.getNumPages()\n",
    "    \n",
    "    # Lee y almacena el contenido binario de cada página\n",
    "    binary_data = []\n",
    "    \n",
    "    for page_num in range(num_pages):\n",
    "        page = pdf_reader.getPage(page_num)\n",
    "        binary_data.append(page.extractText())\n",
    "    \n",
    "    # Puedes acceder al contenido binario de cada página a través de binary_data\n",
    "    for page_num, data in enumerate(binary_data):\n",
    "        print(f\"Contenido binario de la página {page_num + 1}:\\n\")\n",
    "        print(data)\n"
   ]
  },
  {
   "cell_type": "code",
   "execution_count": null,
   "id": "b2e4c0cb",
   "metadata": {},
   "outputs": [],
   "source": []
  }
 ],
 "metadata": {
  "kernelspec": {
   "display_name": "Python 3 (ipykernel)",
   "language": "python",
   "name": "python3"
  },
  "language_info": {
   "codemirror_mode": {
    "name": "ipython",
    "version": 3
   },
   "file_extension": ".py",
   "mimetype": "text/x-python",
   "name": "python",
   "nbconvert_exporter": "python",
   "pygments_lexer": "ipython3",
   "version": "3.11.5"
  }
 },
 "nbformat": 4,
 "nbformat_minor": 5
}
