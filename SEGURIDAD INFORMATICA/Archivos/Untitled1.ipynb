{
 "cells": [
  {
   "cell_type": "code",
   "execution_count": 19,
   "id": "f6e2b4f7",
   "metadata": {},
   "outputs": [
    {
     "name": "stdout",
     "output_type": "stream",
     "text": [
      "----Excel-------\n",
      "   Unnamed: 0                  Unnamed: 1  \\\n",
      "0         NaN                         NaN   \n",
      "1         NaN       Check List Liberación   \n",
      "2         NaN                   Proyecto:   \n",
      "3         NaN  Responsable de liberación:   \n",
      "4         NaN                        Item   \n",
      "5         NaN                           1   \n",
      "6         NaN                           2   \n",
      "7         NaN                           4   \n",
      "\n",
      "                                          Unnamed: 2            Unnamed: 3  \\\n",
      "0                                                NaN                   NaN   \n",
      "1                                                NaN                   NaN   \n",
      "2                                                NaN  VENTAS MOBILE FB/ADE   \n",
      "3                                                NaN     KATHERINE FLORIO    \n",
      "4                                          Actividad           Responsable   \n",
      "5  Corrección del páginador para la selección de ...     KATHERINE FLORIO    \n",
      "6  Filtros de busqueda de productos,descripción, ...     KATHERINE FLORIO    \n",
      "7                               Publicar el sistema      KATHERINE FLORIO    \n",
      "\n",
      "            Unnamed: 4 Unnamed: 5  Unnamed: 6          Unnamed: 7  \n",
      "0                  NaN        NaN         NaN                 NaN  \n",
      "1                  NaN        NaN         NaN                 NaN  \n",
      "2                  NaN        NaN         NaN                 NaN  \n",
      "3                  NaN        NaN         NaN                 NaN  \n",
      "4     Fecha liberación       Hora  Afectación  Estatus Liberación  \n",
      "5  2023-07-19 00:00:00     5:00PM     Ninguna         Sin iniciar  \n",
      "6  2023-07-19 00:00:00     5:00PM     Ninguna         sin iniciar  \n",
      "7  2023-07-19 00:00:00     5:00PM     Ninguna         sin iniciar  \n",
      "----Excel-------\n"
     ]
    }
   ],
   "source": [
    "\n",
    "import pandas as pd\n",
    "\n",
    "\n",
    "def leer_excel(nombre_archivo):\n",
    "  datos_excel = pd.read_excel(nombre_archivo)\n",
    "  return datos_excel\n",
    "\n",
    "print('----Excel-------')\n",
    "datos_excel = leer_excel('kath1.xlsx')\n",
    "print(datos_excel)\n",
    "print('----Excel-------')\n",
    "\n"
   ]
  },
  {
   "cell_type": "code",
   "execution_count": null,
   "id": "60e033d1",
   "metadata": {},
   "outputs": [],
   "source": []
  }
 ],
 "metadata": {
  "kernelspec": {
   "display_name": "Python 3 (ipykernel)",
   "language": "python",
   "name": "python3"
  },
  "language_info": {
   "codemirror_mode": {
    "name": "ipython",
    "version": 3
   },
   "file_extension": ".py",
   "mimetype": "text/x-python",
   "name": "python",
   "nbconvert_exporter": "python",
   "pygments_lexer": "ipython3",
   "version": "3.11.5"
  }
 },
 "nbformat": 4,
 "nbformat_minor": 5
}
