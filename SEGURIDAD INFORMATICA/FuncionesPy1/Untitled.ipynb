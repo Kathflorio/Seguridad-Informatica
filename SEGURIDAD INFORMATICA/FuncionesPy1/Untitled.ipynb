{
 "cells": [
  {
   "cell_type": "code",
   "execution_count": 5,
   "id": "f170336b",
   "metadata": {},
   "outputs": [],
   "source": [
    "from funcion1 import suma_recursiva"
   ]
  },
  {
   "cell_type": "code",
   "execution_count": 7,
   "id": "c6168404",
   "metadata": {},
   "outputs": [
    {
     "ename": "NameError",
     "evalue": "name 'funcion1' is not defined",
     "output_type": "error",
     "traceback": [
      "\u001b[1;31m---------------------------------------------------------------------------\u001b[0m",
      "\u001b[1;31mNameError\u001b[0m                                 Traceback (most recent call last)",
      "Cell \u001b[1;32mIn[7], line 1\u001b[0m\n\u001b[1;32m----> 1\u001b[0m funcion1\u001b[38;5;241m.\u001b[39msuma_recursiva()\n",
      "\u001b[1;31mNameError\u001b[0m: name 'funcion1' is not defined"
     ]
    }
   ],
   "source": [
    "funcion1.suma_recursiva()"
   ]
  },
  {
   "cell_type": "code",
   "execution_count": null,
   "id": "958eeb1f",
   "metadata": {},
   "outputs": [],
   "source": []
  },
  {
   "cell_type": "code",
   "execution_count": null,
   "id": "af275d82",
   "metadata": {},
   "outputs": [],
   "source": []
  },
  {
   "cell_type": "code",
   "execution_count": null,
   "id": "70f0b85b",
   "metadata": {},
   "outputs": [],
   "source": []
  },
  {
   "cell_type": "code",
   "execution_count": null,
   "id": "972594c2",
   "metadata": {},
   "outputs": [],
   "source": []
  },
  {
   "cell_type": "code",
   "execution_count": null,
   "id": "49257375",
   "metadata": {},
   "outputs": [],
   "source": []
  }
 ],
 "metadata": {
  "kernelspec": {
   "display_name": "Python 3 (ipykernel)",
   "language": "python",
   "name": "python3"
  },
  "language_info": {
   "codemirror_mode": {
    "name": "ipython",
    "version": 3
   },
   "file_extension": ".py",
   "mimetype": "text/x-python",
   "name": "python",
   "nbconvert_exporter": "python",
   "pygments_lexer": "ipython3",
   "version": "3.11.5"
  }
 },
 "nbformat": 4,
 "nbformat_minor": 5
}
