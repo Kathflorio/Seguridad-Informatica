{
 "cells": [
  {
   "cell_type": "code",
   "execution_count": 15,
   "id": "6415f0b6",
   "metadata": {},
   "outputs": [
    {
     "name": "stdout",
     "output_type": "stream",
     "text": [
      "Ingrese su peso en Kilogramos: 80\n",
      "Ingrese su estatura en metros: 1.64\n",
      "Su IMC es de 29.7\n",
      "-----------------------  -----------------------------\n",
      "Composición corporal     Índice de masa corporal (IMC)\n",
      "Peso inferior al normal  Menos de 18.5\n",
      "Normal                   18.5 – 24.9\n",
      "Peso superior al normal  25.0 – 29.9\n",
      "Obesidad                 Más de 30.0\n",
      "-----------------------  -----------------------------\n"
     ]
    }
   ],
   "source": [
    "\n",
    "import math\n",
    "from tabulate import tabulate\n",
    " \n",
    "peso = float(input(\"Ingrese su peso en Kilogramos: \"))\n",
    "estatura = float(input(\"Ingrese su estatura en metros: \"))\n",
    "\n",
    " \n",
    "IMC = round(peso/math.pow(estatura,2),1)\n",
    "        \n",
    "print(\"Su IMC es de \"+str(IMC))\n",
    " \n",
    "lista = [[\"Composición corporal\",\"Índice de masa corporal (IMC)\"],[\"Peso inferior al normal\",\"Menos de 18.5\"],[\"Normal\",\"18.5 – 24.9\"],[\"Peso superior al normal\",\"25.0 – 29.9\"],[\"Obesidad\",\"Más de 30.0\"]]\n",
    " \n",
    "print(tabulate(lista))\n",
    "\n"
   ]
  },
  {
   "cell_type": "code",
   "execution_count": null,
   "id": "ec42c89a",
   "metadata": {},
   "outputs": [],
   "source": []
  },
  {
   "cell_type": "code",
   "execution_count": null,
   "id": "b1d526a7",
   "metadata": {},
   "outputs": [],
   "source": []
  }
 ],
 "metadata": {
  "kernelspec": {
   "display_name": "Python 3 (ipykernel)",
   "language": "python",
   "name": "python3"
  },
  "language_info": {
   "codemirror_mode": {
    "name": "ipython",
    "version": 3
   },
   "file_extension": ".py",
   "mimetype": "text/x-python",
   "name": "python",
   "nbconvert_exporter": "python",
   "pygments_lexer": "ipython3",
   "version": "3.11.5"
  }
 },
 "nbformat": 4,
 "nbformat_minor": 5
}
